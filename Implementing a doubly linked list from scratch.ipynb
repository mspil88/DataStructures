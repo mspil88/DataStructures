{
 "cells": [
  {
   "cell_type": "markdown",
   "metadata": {},
   "source": [
    "# Implementing a doubly linked list "
   ]
  },
  {
   "cell_type": "code",
   "execution_count": 1,
   "metadata": {},
   "outputs": [],
   "source": [
    "\n",
    "class Node:\n",
    "    def __init__(self, next = None, prev = None, value = None):\n",
    "        self.next = next\n",
    "        self.prev = prev\n",
    "        self.value = value\n",
    "\n",
    "class DLL:\n",
    "    def __init__(self):\n",
    "        self.head = None\n",
    "        self.len = 0\n",
    "        self.contents = []\n",
    "    #push items to the front of the DLL\n",
    "    def push(self, new_value):\n",
    "        new_node = Node(value = new_value)\n",
    "        new_node.next = self.head\n",
    "        if self.head is not None:\n",
    "            self.head.prev = new_node\n",
    "        new_node.prev = None\n",
    "        self.head = new_node\n",
    "        self.len += 1\n",
    "        self.contents.insert(0,new_value)\n",
    "    #append items to the end of the DLL\n",
    "    def append(self, new_value):\n",
    "        new_node = Node(value = new_value)\n",
    "        new_node.next = None\n",
    "        if self.head is None:\n",
    "            self.head = new_node\n",
    "        temp = self.head\n",
    "        while temp.next:\n",
    "            temp = temp.next\n",
    "        temp.next = new_node\n",
    "        new_node.prev = temp\n",
    "        self.len +=1\n",
    "        self.contents.append(new_value)\n",
    "    #insertion next to a key\n",
    "    def insert(self, key, new_value):\n",
    "        new_node = Node(value=new_value)\n",
    "        current = self.head\n",
    "        while current:\n",
    "            #current = current.next\n",
    "            if current.value == key and current.next is not None:\n",
    "                nxt = current.next\n",
    "                current.next = new_node\n",
    "                new_node.prev = current\n",
    "                new_node.next = nxt\n",
    "                nxt.prev = new_node\n",
    "                self.len +=1\n",
    "                self.contents.append(new_value)\n",
    "            elif current.value == key and current.next is None:\n",
    "                current.next = new_node\n",
    "                new_node.prev = current\n",
    "                new_node.next = None\n",
    "                self.len +=1\n",
    "                self.contents.append(new_value)\n",
    "                         \n",
    "            current = current.next\n",
    "    \n",
    "    #Traverse the list forwards and print the values\n",
    "    def print_forwards(self):\n",
    "        temp = self.head\n",
    "        while temp:\n",
    "            print(temp.value)\n",
    "            temp = temp.next\n",
    "    #Traverse the list backwards and print the values\n",
    "    def print_backwards(self):\n",
    "        temp = self.head\n",
    "        while temp:\n",
    "            last = temp\n",
    "            temp = temp.next\n",
    "        while last:\n",
    "            print(last.value)\n",
    "            last = last.prev\n",
    "    #Delete items from the list based on a key\n",
    "    def delete(self, key):\n",
    "        current = self.head\n",
    "        while current:\n",
    "            if current.value == key and current == self.head:\n",
    "                #Case 1: At the head of the node with nothing next\n",
    "                if not current.next:\n",
    "                    current.prev = None\n",
    "                    current = None\n",
    "                    self.head = None\n",
    "                    self.len -=1\n",
    "                    self.contents.remove(key)\n",
    "                    return\n",
    "                #Case 2: At the head of the node with another node next\n",
    "                else:\n",
    "                    nxt = current.next\n",
    "                    current.next = None\n",
    "                    nxt.prev = None\n",
    "                    current = None\n",
    "                    self.head = nxt\n",
    "                    self.len -=1\n",
    "                    self.contents.remove(key)\n",
    "                    return\n",
    "            elif current.value == key:\n",
    "                #Case 3: Not at the head with another node next\n",
    "                if current.next:\n",
    "                    nxt = current.next\n",
    "                    prev = current.prev\n",
    "                    prev.next = nxt\n",
    "                    nxt.prev = prev\n",
    "                    current.next = None\n",
    "                    current.prev = None\n",
    "                    current = None\n",
    "                    self.len -=1\n",
    "                    self.contents.remove(key)\n",
    "                    return\n",
    "                #Case 4: Not at the head with nothing next\n",
    "                else:\n",
    "                    prev = current.prev\n",
    "                    prev.next = None\n",
    "                    current.prev = None\n",
    "                    current = None\n",
    "                    self.len -=1\n",
    "                    self.contents.remove(key)\n",
    "                    return\n",
    "            current = current.next\n",
    "            \n",
    "    #Interview question - reverse a doubly linked list\n",
    "    def reverse_dll(self):\n",
    "        temp = None\n",
    "        current = self.head\n",
    "        while current:\n",
    "            temp = current.prev\n",
    "            current.prev = current.next\n",
    "            current.next = temp\n",
    "            current = current.prev\n",
    "            \n",
    "            if temp:\n",
    "                self.head = temp.prev\n",
    "    \n",
    "    #Interview question - print the ith last value of a doubly linked list\n",
    "    def print_ith_last(self, ith_last):\n",
    "        temp = self.head\n",
    "        i = 0\n",
    "        while temp:\n",
    "            last = temp\n",
    "            temp = temp.next\n",
    "        while i <= ith_last:\n",
    "            last = last.prev\n",
    "            print(last.value)\n",
    "            \n",
    "    #len\n",
    "    def __len__(self):\n",
    "        return self.len\n",
    "    \n",
    "    #iter\n",
    "    \n",
    "    def __iter__(self):\n",
    "        for i in self.contents:\n",
    "            yield i\n",
    "        \n",
    "        \n",
    "    #eq\n",
    "    def __eq__(self, other):\n",
    "        if isinstance(other, DLL):\n",
    "            return self.contents == other.contents\n",
    "        else:\n",
    "            raise TypeError(\"Must compare with another DLL\")\n",
    "        "
   ]
  },
  {
   "cell_type": "markdown",
   "metadata": {},
   "source": [
    "## Testing push"
   ]
  },
  {
   "cell_type": "code",
   "execution_count": 3,
   "metadata": {},
   "outputs": [
    {
     "name": "stdout",
     "output_type": "stream",
     "text": [
      "cat\n",
      "70\n",
      "10\n",
      "5\n"
     ]
    }
   ],
   "source": [
    "dll = DLL()\n",
    "\n",
    "\n",
    "dll.push(5)\n",
    "dll.push(10)\n",
    "dll.push(70)\n",
    "dll.push('cat')\n",
    "dll.print_forwards()"
   ]
  },
  {
   "cell_type": "markdown",
   "metadata": {},
   "source": [
    "## Testing Append"
   ]
  },
  {
   "cell_type": "code",
   "execution_count": 4,
   "metadata": {},
   "outputs": [
    {
     "name": "stdout",
     "output_type": "stream",
     "text": [
      "cat\n",
      "70\n",
      "10\n",
      "5\n",
      "8\n",
      "12\n"
     ]
    }
   ],
   "source": [
    "dll.append(8)\n",
    "dll.append(12)\n",
    "dll.print_forwards()"
   ]
  },
  {
   "cell_type": "markdown",
   "metadata": {},
   "source": [
    "## Testing Insertion"
   ]
  },
  {
   "cell_type": "code",
   "execution_count": 14,
   "metadata": {},
   "outputs": [],
   "source": [
    "dll.insert('cat',99)"
   ]
  },
  {
   "cell_type": "code",
   "execution_count": 15,
   "metadata": {},
   "outputs": [
    {
     "name": "stdout",
     "output_type": "stream",
     "text": [
      "cat\n",
      "99\n",
      "70\n",
      "10\n",
      "5\n",
      "8\n",
      "12\n"
     ]
    }
   ],
   "source": [
    "dll.print_forwards()"
   ]
  },
  {
   "cell_type": "markdown",
   "metadata": {},
   "source": [
    "## Testing Reversal (in place)"
   ]
  },
  {
   "cell_type": "code",
   "execution_count": 16,
   "metadata": {},
   "outputs": [],
   "source": [
    "dll.reverse_dll()\n"
   ]
  },
  {
   "cell_type": "code",
   "execution_count": 17,
   "metadata": {},
   "outputs": [
    {
     "name": "stdout",
     "output_type": "stream",
     "text": [
      "12\n",
      "8\n",
      "5\n",
      "10\n",
      "70\n",
      "99\n",
      "cat\n"
     ]
    }
   ],
   "source": [
    "dll.print_forwards()"
   ]
  },
  {
   "cell_type": "code",
   "execution_count": 18,
   "metadata": {},
   "outputs": [],
   "source": [
    "dll.reverse_dll()\n"
   ]
  },
  {
   "cell_type": "code",
   "execution_count": 19,
   "metadata": {},
   "outputs": [
    {
     "name": "stdout",
     "output_type": "stream",
     "text": [
      "cat\n",
      "99\n",
      "70\n",
      "10\n",
      "5\n",
      "8\n",
      "12\n"
     ]
    }
   ],
   "source": [
    "dll.print_forwards()"
   ]
  },
  {
   "cell_type": "markdown",
   "metadata": {},
   "source": [
    "## Testing Delete"
   ]
  },
  {
   "cell_type": "code",
   "execution_count": 20,
   "metadata": {},
   "outputs": [],
   "source": [
    "dll.delete(12)\n",
    "dll.delete(5)"
   ]
  },
  {
   "cell_type": "code",
   "execution_count": 21,
   "metadata": {},
   "outputs": [
    {
     "name": "stdout",
     "output_type": "stream",
     "text": [
      "cat\n",
      "99\n",
      "70\n",
      "10\n",
      "8\n"
     ]
    }
   ],
   "source": [
    "dll.print_forwards()"
   ]
  }
 ],
 "metadata": {
  "kernelspec": {
   "display_name": "Python 3",
   "language": "python",
   "name": "python3"
  },
  "language_info": {
   "codemirror_mode": {
    "name": "ipython",
    "version": 3
   },
   "file_extension": ".py",
   "mimetype": "text/x-python",
   "name": "python",
   "nbconvert_exporter": "python",
   "pygments_lexer": "ipython3",
   "version": "3.7.6"
  }
 },
 "nbformat": 4,
 "nbformat_minor": 4
}
