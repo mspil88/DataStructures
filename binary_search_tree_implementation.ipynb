{
 "cells": [
  {
   "cell_type": "markdown",
   "metadata": {},
   "source": [
    "# Implementing a Binary Search Tree Class\n",
    "\n",
    "### Inspired by Steve Skinena's algorithm design manual"
   ]
  },
  {
   "cell_type": "code",
   "execution_count": 69,
   "metadata": {},
   "outputs": [],
   "source": [
    "class Node:\n",
    "    def __init__(self, value=None):\n",
    "        self.left = None\n",
    "        self.right = None\n",
    "        self.value = value\n",
    "\n",
    "class BinarySearchTree:\n",
    "    def __init__(self):\n",
    "        self.root = None\n",
    "    \n",
    "    def insert(self, value):\n",
    "        if self.root is None:\n",
    "            self.root = Node(value=value)\n",
    "        else:\n",
    "            return self._insert(value,self.root)\n",
    "    \n",
    "    def _insert(self, value, currentNode):\n",
    "        if value < currentNode.value:\n",
    "            if currentNode.left is None:\n",
    "                currentNode.left = Node(value=value)\n",
    "            else:\n",
    "                return self._insert(value,currentNode.left)\n",
    "        \n",
    "        elif value > currentNode.value:\n",
    "            if currentNode.right is None:\n",
    "                currentNode.right = Node(value=value)\n",
    "            else:\n",
    "                return self._insert(value, currentNode.right)\n",
    "        \n",
    "        else:\n",
    "            print(\"This class will not handle duplicates\")\n",
    "    \n",
    "    def find(self, value):\n",
    "        if self.root:\n",
    "            found = self._find(value, self.root)\n",
    "            if found:\n",
    "                return True\n",
    "            else:\n",
    "                return False\n",
    "        return False\n",
    "    \n",
    "    def _find(self, value, currentNode):\n",
    "        if value < currentNode.value and currentNode.left:\n",
    "            return self._find(value, currentNode.left)\n",
    "        \n",
    "        elif value > currentNode.value and currentNode.right:\n",
    "            return self._find(value, currentNode.right)\n",
    "        \n",
    "        if value == currentNode.value:\n",
    "            return True\n",
    "    \n",
    "    def inorderSort(self):\n",
    "        if self.root:\n",
    "            return self._inorderSort(self.root)\n",
    "    \n",
    "    def _inorderSort(self, currentNode):\n",
    "        if currentNode:\n",
    "            self._inorderSort(currentNode.left)\n",
    "            print(str(currentNode.value))\n",
    "            self._inorderSort(currentNode.right)\n",
    "    \n",
    "    def bstSatisfied(self):\n",
    "        if self.root:\n",
    "            satisfied = self._bstSatisfied(self.root, self.root.value)\n",
    "            if satisfied is None:\n",
    "                return True\n",
    "            else:\n",
    "                return False\n",
    "        return True\n",
    "    \n",
    "    def _bstSatisfied(self, currentNode, value):\n",
    "        if currentNode.left:\n",
    "            if value > currentNode.left.value:\n",
    "                return self._bstSatisfied(currentNode.left, currentNode.left.value)\n",
    "            else:\n",
    "                return False\n",
    "        if currentNode.right:\n",
    "            if value < currentNode.right.value:\n",
    "                return self._bstSatisfied(currentNode.right, currentNode.right.value)\n",
    "            else:\n",
    "                return False\n",
    "            \n",
    "    def maxDepth(self):\n",
    "        if self.root:\n",
    "            return self._maxDepth(self.root, 0)\n",
    "        else:\n",
    "            return 0\n",
    "    \n",
    "    def _maxDepth(self, currentNode, currentDepth):\n",
    "        if currentNode is None:\n",
    "            return currentDepth\n",
    "        left_depth = self._maxDepth(currentNode.left, currentDepth+1)\n",
    "        right_depth = self._maxDepth(currentNode.right, currentDepth+1)\n",
    "        return max(left_depth, right_depth)\n",
    "    \n",
    "    def invertBST(self):\n",
    "        if self.root:\n",
    "            return self._invertBST(self.root)\n",
    "    \n",
    "    def _invertBST(self, currentNode):\n",
    "        if currentNode:\n",
    "            left = currentNode.left\n",
    "            right = currentNode.right\n",
    "            currentNode.left = right\n",
    "            currentNode.right = left\n",
    "            self._invertBST(currentNode.left)\n",
    "            self._invertBST(currentNode.right)\n",
    "    \n",
    "    #TO DO: Add deletion\n",
    "        \n",
    "        \n",
    "        "
   ]
  },
  {
   "cell_type": "code",
   "execution_count": 72,
   "metadata": {},
   "outputs": [],
   "source": [
    "bst = BinarySearchTree()"
   ]
  },
  {
   "cell_type": "markdown",
   "metadata": {},
   "source": [
    "#### Test out insertion and search"
   ]
  },
  {
   "cell_type": "code",
   "execution_count": 73,
   "metadata": {},
   "outputs": [],
   "source": [
    "bst.insert(15)\n",
    "bst.insert(5)\n",
    "bst.insert(12)\n",
    "bst.insert(3)\n",
    "bst.insert(4)\n",
    "bst.insert(9)\n",
    "bst.insert(17)\n",
    "bst.insert(8)\n",
    "bst.insert(13)"
   ]
  },
  {
   "cell_type": "code",
   "execution_count": 74,
   "metadata": {},
   "outputs": [
    {
     "data": {
      "text/plain": [
       "True"
      ]
     },
     "execution_count": 74,
     "metadata": {},
     "output_type": "execute_result"
    }
   ],
   "source": [
    "bst.find(8)"
   ]
  },
  {
   "cell_type": "code",
   "execution_count": 80,
   "metadata": {},
   "outputs": [
    {
     "data": {
      "text/plain": [
       "False"
      ]
     },
     "execution_count": 80,
     "metadata": {},
     "output_type": "execute_result"
    }
   ],
   "source": [
    "bst.find(100)"
   ]
  },
  {
   "cell_type": "markdown",
   "metadata": {},
   "source": [
    "#### BST in order to sort will nicely sort the elements of the tree in nlog(n) time"
   ]
  },
  {
   "cell_type": "code",
   "execution_count": 75,
   "metadata": {},
   "outputs": [
    {
     "name": "stdout",
     "output_type": "stream",
     "text": [
      "3\n",
      "4\n",
      "5\n",
      "8\n",
      "9\n",
      "12\n",
      "13\n",
      "15\n",
      "17\n"
     ]
    }
   ],
   "source": [
    "bst.inorderSort()"
   ]
  },
  {
   "cell_type": "markdown",
   "metadata": {},
   "source": [
    "#### Check the heigh of the tree"
   ]
  },
  {
   "cell_type": "code",
   "execution_count": 76,
   "metadata": {},
   "outputs": [
    {
     "data": {
      "text/plain": [
       "5"
      ]
     },
     "execution_count": 76,
     "metadata": {},
     "output_type": "execute_result"
    }
   ],
   "source": [
    "bst.maxDepth()"
   ]
  },
  {
   "cell_type": "markdown",
   "metadata": {},
   "source": [
    "#### Check that the BST property is satisfied, i.e. that 'the key in each node is greater than or equal to any key stored in the left sub-tree, and less than or equal to any key stored in the right sub-tree.' (from wikipedia)"
   ]
  },
  {
   "cell_type": "code",
   "execution_count": 77,
   "metadata": {},
   "outputs": [
    {
     "data": {
      "text/plain": [
       "True"
      ]
     },
     "execution_count": 77,
     "metadata": {},
     "output_type": "execute_result"
    }
   ],
   "source": [
    "bst.bstSatisfied()"
   ]
  },
  {
   "cell_type": "markdown",
   "metadata": {},
   "source": [
    "#### Let's test our inversion algo"
   ]
  },
  {
   "cell_type": "code",
   "execution_count": 78,
   "metadata": {},
   "outputs": [],
   "source": [
    "bst.invertBST()"
   ]
  },
  {
   "cell_type": "code",
   "execution_count": 79,
   "metadata": {},
   "outputs": [
    {
     "name": "stdout",
     "output_type": "stream",
     "text": [
      "17\n",
      "15\n",
      "13\n",
      "12\n",
      "9\n",
      "8\n",
      "5\n",
      "4\n",
      "3\n"
     ]
    }
   ],
   "source": [
    "bst.inorderSort()"
   ]
  }
 ],
 "metadata": {
  "kernelspec": {
   "display_name": "Python 3",
   "language": "python",
   "name": "python3"
  },
  "language_info": {
   "codemirror_mode": {
    "name": "ipython",
    "version": 3
   },
   "file_extension": ".py",
   "mimetype": "text/x-python",
   "name": "python",
   "nbconvert_exporter": "python",
   "pygments_lexer": "ipython3",
   "version": "3.7.6"
  }
 },
 "nbformat": 4,
 "nbformat_minor": 4
}
