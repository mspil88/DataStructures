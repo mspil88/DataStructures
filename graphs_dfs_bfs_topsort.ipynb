{
 "cells": [
  {
   "cell_type": "markdown",
   "metadata": {},
   "source": [
    "# Graphs: depth first search, breadth first search and topological sorting"
   ]
  },
  {
   "cell_type": "code",
   "execution_count": 1,
   "metadata": {},
   "outputs": [],
   "source": [
    "# define some graphs in adjaceny list format\n",
    "\n",
    "graph = {\n",
    "        '1': ['2', '3', '4'],\n",
    "        '2': ['5', '6'],\n",
    "        '5': ['9', '10'],\n",
    "        '4': ['7', '8'],\n",
    "        '7': ['11', '12']\n",
    "        }\n",
    "                      \n",
    "graph2 = {'a' : ['d'],\n",
    "           'b' : ['d'],\n",
    "           'c' : ['e'],\n",
    "           'd' : ['e'], \n",
    "           'e' : [],}\n"
   ]
  },
  {
   "cell_type": "code",
   "execution_count": 5,
   "metadata": {},
   "outputs": [],
   "source": [
    "def depth_first_search(graph, start):\n",
    "    '''Performs depth first search on a graph represented in an adjacency list'''\n",
    "    stack = []\n",
    "    seen = set()\n",
    "    stack.append(start)\n",
    "    \n",
    "    while stack:\n",
    "        current = stack.pop()\n",
    "        \n",
    "        if current not in seen:\n",
    "            print(current)\n",
    "            seen.add(current)\n",
    "        \n",
    "        for adjacent in graph.get(current, []):\n",
    "            if adjacent not in seen:\n",
    "                stack.append(adjacent)"
   ]
  },
  {
   "cell_type": "code",
   "execution_count": 7,
   "metadata": {},
   "outputs": [
    {
     "name": "stdout",
     "output_type": "stream",
     "text": [
      "4\n",
      "8\n",
      "7\n",
      "12\n",
      "11\n"
     ]
    }
   ],
   "source": [
    "depth_first_search(graph,'4')"
   ]
  },
  {
   "cell_type": "code",
   "execution_count": 12,
   "metadata": {},
   "outputs": [],
   "source": [
    "def bfs_shortest_path(graph, start, goal):\n",
    "    '''Performs breadth first search on a graph represented in an adjacency list\n",
    "    and returns the shortest path'''\n",
    "    queue = []\n",
    "    queue.append([start])\n",
    "    \n",
    "    while queue:\n",
    "        path = queue.pop()\n",
    "        node = path[len(path)-1]\n",
    "        \n",
    "        if node == goal:\n",
    "            return path\n",
    "        \n",
    "        for adjacent in graph.get(node, []):\n",
    "            temp_list = list(path)\n",
    "            temp_list.append(adjacent)\n",
    "            queue.append(temp_list)\n",
    "        \n",
    "    "
   ]
  },
  {
   "cell_type": "code",
   "execution_count": 13,
   "metadata": {},
   "outputs": [
    {
     "data": {
      "text/plain": [
       "['1', '4', '7', '12']"
      ]
     },
     "execution_count": 13,
     "metadata": {},
     "output_type": "execute_result"
    }
   ],
   "source": [
    "bfs_shortest_path(graph, '1', '12')"
   ]
  },
  {
   "cell_type": "code",
   "execution_count": 18,
   "metadata": {},
   "outputs": [],
   "source": [
    "def topological(graph):\n",
    "    '''Performs topological sorting on a graph represented in an adjacency list'''\n",
    "    visited = {k:False for k in graph}\n",
    "    stack = []\n",
    "    \n",
    "    def top_sort(graph, vertex):\n",
    "        if not visited[vertex]:\n",
    "            visited[vertex] = True\n",
    "            \n",
    "            for adjacent in graph.get(vertex, []):\n",
    "                if not visited[adjacent]:\n",
    "                    top_sort(graph, adjacent)\n",
    "            stack.insert(0, vertex)\n",
    "    \n",
    "    for i in visited:\n",
    "        top_sort(graph,i)\n",
    "    return stack\n",
    "            \n",
    "            "
   ]
  },
  {
   "cell_type": "code",
   "execution_count": 19,
   "metadata": {},
   "outputs": [
    {
     "data": {
      "text/plain": [
       "['c', 'b', 'a', 'd', 'e']"
      ]
     },
     "execution_count": 19,
     "metadata": {},
     "output_type": "execute_result"
    }
   ],
   "source": [
    "topological(graph2)"
   ]
  }
 ],
 "metadata": {
  "kernelspec": {
   "display_name": "Python 3",
   "language": "python",
   "name": "python3"
  },
  "language_info": {
   "codemirror_mode": {
    "name": "ipython",
    "version": 3
   },
   "file_extension": ".py",
   "mimetype": "text/x-python",
   "name": "python",
   "nbconvert_exporter": "python",
   "pygments_lexer": "ipython3",
   "version": "3.7.6"
  }
 },
 "nbformat": 4,
 "nbformat_minor": 4
}
